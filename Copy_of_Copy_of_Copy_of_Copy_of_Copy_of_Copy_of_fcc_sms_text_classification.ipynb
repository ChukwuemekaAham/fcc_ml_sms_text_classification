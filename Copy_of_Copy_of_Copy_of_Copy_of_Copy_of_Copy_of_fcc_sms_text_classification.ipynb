{
  "nbformat": 4,
  "nbformat_minor": 0,
  "metadata": {
    "colab": {
      "name": "Copy of Copy of Copy of Copy of Copy of Copy of fcc_sms_text_classification.ipynb",
      "private_outputs": true,
      "provenance": [],
      "collapsed_sections": [],
      "include_colab_link": true
    },
    "kernelspec": {
      "display_name": "Python 3",
      "name": "python3"
    },
    "language_info": {}
  },
  "cells": [
    {
      "cell_type": "markdown",
      "metadata": {
        "id": "view-in-github",
        "colab_type": "text"
      },
      "source": [
        "<a href=\"https://colab.research.google.com/github/ChukwuemekaAham/fcc_ml_sms_text_classification-/blob/main/Copy_of_Copy_of_Copy_of_Copy_of_Copy_of_Copy_of_fcc_sms_text_classification.ipynb\" target=\"_parent\"><img src=\"https://colab.research.google.com/assets/colab-badge.svg\" alt=\"Open In Colab\"/></a>"
      ]
    },
    {
      "cell_type": "markdown",
      "metadata": {
        "id": "Eg62Pmz3o83v"
      },
      "source": [
        "*Note: You are currently reading this using Google Colaboratory which is a cloud-hosted version of Jupyter Notebook. This is a document containing both text cells for documentation and runnable code cells. If you are unfamiliar with Jupyter Notebook, watch this 3-minute introduction before starting this challenge: https://www.youtube.com/watch?v=inN8seMm7UI*\n",
        "\n",
        "---\n",
        "\n",
        "In this challenge, you need to create a machine learning model that will classify SMS messages as either \"ham\" or \"spam\". A \"ham\" message is a normal message sent by a friend. A \"spam\" message is an advertisement or a message sent by a company.\n",
        "\n",
        "You should create a function called `predict_message` that takes a message string as an argument and returns a list. The first element in the list should be a number between zero and one that indicates the likeliness of \"ham\" (0) or \"spam\" (1). The second element in the list should be the word \"ham\" or \"spam\", depending on which is most likely.\n",
        "\n",
        "For this challenge, you will use the [SMS Spam Collection dataset](http://www.dt.fee.unicamp.br/~tiago/smsspamcollection/). The dataset has already been grouped into train data and test data.\n",
        "\n",
        "The first two cells import the libraries and data. The final cell tests your model and function. Add your code in between these cells.\n"
      ]
    },
    {
      "cell_type": "code",
      "metadata": {
        "id": "8RZOuS9LWQvv"
      },
      "source": [
        "# import libraries\n",
        "try:\n",
        "  # %tensorflow_version only exists in Colab.\n",
        "  !pip install tf-nightly\n",
        "except Exception:\n",
        "  pass\n",
        "import tensorflow as tf\n",
        "import pandas as pd\n",
        "from tensorflow import keras\n",
        "!pip install tensorflow-datasets\n",
        "import tensorflow_datasets as tfds\n",
        "import numpy as np\n",
        "import matplotlib.pyplot as plt\n",
        "\n",
        "from keras.models import Sequential\n",
        "from keras.layers import Dense, Dropout, Activation\n",
        "from keras.layers import Embedding\n",
        "from keras.layers import Conv1D, GlobalMaxPooling1D\n",
        "from keras.layers import LSTM\n",
        "from keras.preprocessing.text import Tokenizer\n",
        "from keras.preprocessing import sequence\n",
        "from sklearn.preprocessing import LabelEncoder\n",
        "from keras import metrics\n",
        "\n",
        "\n",
        "\n",
        "print(tf.__version__)"
      ],
      "execution_count": null,
      "outputs": []
    },
    {
      "cell_type": "code",
      "metadata": {
        "id": "lMHwYXHXCar3"
      },
      "source": [
        "# get data files\n",
        "!wget https://cdn.freecodecamp.org/project-data/sms/train-data.tsv\n",
        "!wget https://cdn.freecodecamp.org/project-data/sms/valid-data.tsv\n",
        "\n",
        "train_file_path = \"train-data.tsv\"\n",
        "test_file_path = \"valid-data.tsv\""
      ],
      "execution_count": null,
      "outputs": []
    },
    {
      "cell_type": "code",
      "metadata": {
        "id": "a0GaJXBx56Jg"
      },
      "source": [
        "dftrain = pd.read_csv(train_file_path,sep=\"\\t\",header=None)\n",
        "dftrain.columns = ['label', 'text']\n",
        "dftrain"
      ],
      "execution_count": null,
      "outputs": []
    },
    {
      "cell_type": "code",
      "metadata": {
        "id": "dXFNcfr_578k"
      },
      "source": [
        "dftest = pd.read_csv(test_file_path,sep=\"\\t\",header=None)\n",
        "dftest.columns = ['label', 'text']\n",
        "dftest"
      ],
      "execution_count": null,
      "outputs": []
    },
    {
      "cell_type": "code",
      "metadata": {
        "id": "m1hyjnzt59sB"
      },
      "source": [
        "data = dftrain.append(dftest, ignore_index=True)\n",
        "data"
      ],
      "execution_count": null,
      "outputs": []
    },
    {
      "cell_type": "code",
      "metadata": {
        "id": "oOH9Y0tX5-wR"
      },
      "source": [
        "\n",
        "texts = data[\"text\"]\n",
        "num_max = 1000\n",
        "lab_en = LabelEncoder()\n",
        "token = Tokenizer(num_words=num_max)\n",
        "token.fit_on_texts(texts)\n",
        "\n",
        "mat_data = token.texts_to_matrix(texts,mode='count')\n",
        "mat_train = token.texts_to_matrix(dftrain,mode='count')\n",
        "mat_test = token.texts_to_matrix(dftest,mode='count')\n",
        "\n",
        "max_len = 100\n",
        "x_train = token.texts_to_sequences(dftrain[\"text\"])\n",
        "x_test = token.texts_to_sequences(dftest[\"text\"])\n",
        "train = sequence.pad_sequences(x_train,maxlen=max_len)\n",
        "test = sequence.pad_sequences(x_test,maxlen=max_len)\n",
        "\n",
        "train_label = dftrain[\"label\"]\n",
        "train_id = lab_en.fit_transform(train_label)\n",
        "test_label = dftest[\"label\"]\n",
        "test_id = lab_en.fit_transform(test_label)"
      ],
      "execution_count": null,
      "outputs": []
    },
    {
      "cell_type": "code",
      "metadata": {
        "id": "Y4b_Udfk5_m4"
      },
      "source": [
        "feature_len = 5000\n",
        "   \n",
        "model = Sequential()\n",
        "model.add(Embedding(feature_len, 128))\n",
        "model.add(LSTM(128, dropout=0.2, recurrent_dropout=0.2,activation='relu'))\n",
        "model.add(Dense(1, activation='sigmoid'))"
      ],
      "execution_count": null,
      "outputs": []
    },
    {
      "cell_type": "code",
      "metadata": {
        "id": "Xt4R6fkV6Afi"
      },
      "source": [
        "model.compile(loss='binary_crossentropy',optimizer='adam',metrics=['acc', metrics.binary_accuracy])\n",
        "model.summary()"
      ],
      "execution_count": null,
      "outputs": []
    },
    {
      "cell_type": "code",
      "metadata": {
        "id": "LaWkDZ-x6BYD"
      },
      "source": [
        "model.fit(train,train_id,batch_size=32,epochs=4,verbose=1,validation_split=0.2)"
      ],
      "execution_count": null,
      "outputs": []
    },
    {
      "cell_type": "code",
      "metadata": {
        "id": "J9tD9yACG6M9"
      },
      "source": [
        "\n",
        "def predict_message(pred_text):\n",
        "  inputstr = token.texts_to_sequences([pred_text])\n",
        "  pred = model.predict(inputstr)[0][0]\n",
        "\n",
        "  if pred >= 0.5:\n",
        "    label = \"spam\"\n",
        "  else:\n",
        "    label = \"ham\"\n",
        "\n",
        "  prediction = [pred, label] \n",
        "\n",
        "  return prediction\n",
        "\n",
        "\n",
        "pred_text = \"how are you doing today?\"\n",
        "\n",
        "prediction = predict_message(pred_text)\n",
        "print(prediction)"
      ],
      "execution_count": null,
      "outputs": []
    },
    {
      "cell_type": "code",
      "metadata": {
        "id": "Dxotov85SjsC"
      },
      "source": [
        "# Run this cell to test your function and model. Do not modify contents.\n",
        "def test_predictions():\n",
        "  test_messages = [\"how are you doing today\",\n",
        "                   \"sale today! to stop texts call 98912460324\",\n",
        "                   \"i dont want to go. can we try it a different day? available sat\",\n",
        "                   \"our new mobile video service is live. just install on your phone to start watching.\",\n",
        "                   \"you have won £1000 cash! call to claim your prize.\",\n",
        "                   \"i'll bring it tomorrow. don't forget the milk.\",\n",
        "                   \"wow, is your arm alright. that happened to me one time too\"\n",
        "                  ]\n",
        "\n",
        "  test_answers = [\"ham\", \"spam\", \"ham\", \"spam\", \"spam\", \"ham\", \"ham\"]\n",
        "  passed = True\n",
        "\n",
        "  for msg, ans in zip(test_messages, test_answers):\n",
        "    prediction = predict_message(msg)\n",
        "    if prediction[1] != ans:\n",
        "      passed = False\n",
        "\n",
        "  if passed:\n",
        "    print(\"You passed the challenge. Great job!\")\n",
        "  else:\n",
        "    print(\"You haven't passed yet. Keep trying.\")\n",
        "print(prediction)\n",
        "test_predictions()"
      ],
      "execution_count": null,
      "outputs": []
    }
  ]
}